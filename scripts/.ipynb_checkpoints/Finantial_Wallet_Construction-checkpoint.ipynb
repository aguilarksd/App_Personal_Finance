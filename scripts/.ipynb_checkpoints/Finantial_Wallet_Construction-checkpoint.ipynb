{
 "cells": [
  {
   "cell_type": "markdown",
   "id": "e4ce6bdd",
   "metadata": {},
   "source": [
    "# FINANCIAL WALLET CONSTRUCTION\n"
   ]
  },
  {
   "cell_type": "markdown",
   "id": "32824e90",
   "metadata": {},
   "source": [
    "### Librarys"
   ]
  },
  {
   "cell_type": "code",
   "execution_count": 1,
   "id": "59cd8283",
   "metadata": {},
   "outputs": [],
   "source": [
    "import numpy as np\n",
    "import matplotlib.pyplot as plt\n",
    "import pandas as pd"
   ]
  },
  {
   "cell_type": "markdown",
   "id": "6b91e21f",
   "metadata": {},
   "source": [
    "### Read Data Bases"
   ]
  },
  {
   "cell_type": "code",
   "execution_count": 2,
   "id": "fdb844d6",
   "metadata": {},
   "outputs": [],
   "source": [
    "data_route = \"../data/\"\n",
    "expenses_filename = \"expenses.csv\"\n",
    "incomes_filename = \"incomes.csv\""
   ]
  },
  {
   "cell_type": "code",
   "execution_count": 3,
   "id": "e408b190",
   "metadata": {},
   "outputs": [],
   "source": [
    "expenses = pd.read_csv(data_route+expenses_filename)\n",
    "incomes = pd.read_csv(data_route+incomes_filename)"
   ]
  },
  {
   "cell_type": "code",
   "execution_count": null,
   "id": "f8f6b3e8",
   "metadata": {},
   "outputs": [],
   "source": []
  }
 ],
 "metadata": {
  "kernelspec": {
   "display_name": "Python 3 (ipykernel)",
   "language": "python",
   "name": "python3"
  },
  "language_info": {
   "codemirror_mode": {
    "name": "ipython",
    "version": 3
   },
   "file_extension": ".py",
   "mimetype": "text/x-python",
   "name": "python",
   "nbconvert_exporter": "python",
   "pygments_lexer": "ipython3",
   "version": "3.9.12"
  }
 },
 "nbformat": 4,
 "nbformat_minor": 5
}
